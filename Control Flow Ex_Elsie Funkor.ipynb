{
 "cells": [
  {
   "cell_type": "markdown",
   "id": "1dff1392-973b-4e2f-8182-cbb0f5a17efe",
   "metadata": {},
   "source": [
    "# Q1\n",
    "\n",
    "Print the natural numbers from 1 to 10"
   ]
  },
  {
   "cell_type": "code",
   "execution_count": 2,
   "id": "e3536871",
   "metadata": {},
   "outputs": [
    {
     "name": "stdout",
     "output_type": "stream",
     "text": [
      "1\n",
      "2\n",
      "3\n",
      "4\n",
      "5\n",
      "6\n",
      "7\n",
      "8\n",
      "9\n",
      "10\n"
     ]
    }
   ],
   "source": [
    "# let x be natural numbers\n",
    "for x in range(1, 11):\n",
    "    print(x)"
   ]
  },
  {
   "cell_type": "markdown",
   "id": "8b302e2f-68e3-4e62-839c-d295ee1dfa6e",
   "metadata": {},
   "source": [
    "# Q2\n",
    "Write a code that takes a number from a user, and prints out \"Even\" if the number is an even number, else it prints \"Odd\""
   ]
  },
  {
   "cell_type": "code",
   "execution_count": null,
   "id": "7440513b",
   "metadata": {},
   "outputs": [],
   "source": [
    "# Take input from the user\n",
    "number = int(input(\"Enter a number: \"))\n",
    "\n",
    "# To verify if the number is even or odd\n",
    "if num % 2 == 0:\n",
    "    print(\"Even\")\n",
    "else:\n",
    "    print(\"Odd\")"
   ]
  },
  {
   "cell_type": "markdown",
   "id": "d234c056-2c91-40e4-926a-ec9187c0112d",
   "metadata": {},
   "source": [
    "# Q3\n",
    "\n",
    "Write a program that ask for the CWA/GPA score of a student, and assigns \"Distinction\" if the score is between 80 and 100 inclusively, \"Very Good Pass \" if the score is between 75 and 79 inclusively, \"Good Pass\" if the score is between 70 and 74 inclusively, \"Pass\" if the score is between 60 and 69 inclusively, and \"Fail\" if the score is below 60."
   ]
  },
  {
   "cell_type": "code",
   "execution_count": null,
   "id": "9740f74d",
   "metadata": {},
   "outputs": [],
   "source": [
    "score = float(input(\"Enter CWA/GPA score: \"))\n",
    "\n",
    "# To assign grades based on the score\n",
    "if 80 <= score <= 100:\n",
    "    grade = \"Distinction\"\n",
    "elif 75 <= score <= 79:\n",
    "    grade = \"Very Good Pass\"\n",
    "elif 70 <= score <= 74:\n",
    "    grade = \"Good Pass\"\n",
    "elif 60 <= score <= 69:\n",
    "    grade = \"Pass\"\n",
    "else:\n",
    "    grade = \"Fail\"\n",
    "\n",
    "# Print the assigned grade\n",
    "print(\"Grade:\", grade)"
   ]
  },
  {
   "cell_type": "markdown",
   "id": "661b0a44-ce61-4021-93b3-96b61e926f96",
   "metadata": {},
   "source": [
    "# Q4\n",
    "\n",
    "Write a program to print the square and cube of all even numbers and odd numbers respectively in the natural numbers from 1 to 20. That is to say; counting from 1 to 20, if a number is even, print the square of that number, and if the number is odd, print the cube of that number."
   ]
  },
  {
   "cell_type": "code",
   "execution_count": null,
   "id": "b7fcfaa2",
   "metadata": {},
   "outputs": [],
   "source": [
    "for i in range(1, 21):\n",
    "    # Check if the number is even or odd\n",
    "    if i % 2 == 0:  # even number\n",
    "        print(f\"Square of {i}: {i**2}\")\n",
    "    else:  # odd number\n",
    "        print(f\"Cube of {i}: {i**3}\")"
   ]
  },
  {
   "cell_type": "markdown",
   "id": "167abf18-3fd3-4be5-98d2-d560ff8c6acc",
   "metadata": {},
   "source": [
    "# Q5\n",
    "\n",
    "Write a program that prints all the divisors of a number inputed by a user"
   ]
  },
  {
   "cell_type": "code",
   "execution_count": null,
   "id": "d138262a",
   "metadata": {},
   "outputs": [],
   "source": [
    "number = int(input(\"Enter a number: \"))\n",
    "\n",
    "# Initialize an empty list to store divisors\n",
    "divisors = []\n",
    "\n",
    "# Iterate from 1 to the number\n",
    "for i in range(1, number + 1):\n",
    "    # Check if i divides the number evenly (i.e., is a divisor)\n",
    "    if number % i == 0:\n",
    "        # If yes, add it to the list of divisors\n",
    "        divisors.append(i)\n",
    "\n",
    "# Print the list of divisors\n",
    "print(\"Divisors of\", number, \":\", divisors)"
   ]
  },
  {
   "cell_type": "markdown",
   "id": "aa7aedef-1090-4382-ac49-0265ebf8d530",
   "metadata": {},
   "source": [
    "# Q6\n",
    "\n",
    "Write a code that takes a number from a user a prints out the factorial(!) of that number.\n",
    "\n",
    "**Note:**:\n",
    "\n",
    "2! = 2 *1\n",
    "\n",
    "3! = 3 * 2 * 1\n",
    "\n",
    "4! = 4 * 3 * 2 * 1\n",
    "\n",
    "5! = 5 * 4 * 3 * 2 * 1\n",
    "\n",
    "I hope you get the idea"
   ]
  },
  {
   "cell_type": "code",
   "execution_count": null,
   "id": "8b018992",
   "metadata": {},
   "outputs": [],
   "source": [
    "num = int(input(\"Enter a number: \"))\n",
    "\n",
    "# Initialize the factorial result to 1\n",
    "factorial = 1\n",
    "\n",
    "# Calculate the factorial\n",
    "for i in range(1, num + 1):\n",
    "    factorial *= i\n",
    "\n",
    "# Print the factorial\n",
    "print(f\"{num}! =\", factorial)"
   ]
  },
  {
   "cell_type": "markdown",
   "id": "d0ebfe87-6cbf-46f9-9f11-55c0f1464561",
   "metadata": {},
   "source": [
    "# Q7\n",
    "\n",
    "Write a program that ask a user to guess a secret alphabet between a and p. The program should keep prompting the user to guess an alphabet, until he/she guesses the correct alphabet. At the moment (s)he guesses the secret alphabet correctly, the program should prints out \"Congratulations, you have guessed the alphabet right\" and then terminate from the loop"
   ]
  },
  {
   "cell_type": "code",
   "execution_count": null,
   "id": "afcdf8da-bed9-4167-801d-d9c101b5e40b",
   "metadata": {},
   "outputs": [],
   "source": [
    "# let g be the secret alphabet\n",
    "secret_alphabet = 'g'\n",
    "\n",
    "# Keep prompting the user to guess the alphabet until they guess it correctly\n",
    "while True:\n",
    "    # Take input from the user\n",
    "    guess = input(\"Guess the secret alphabet between 'a' and 'p': \")\n",
    "\n",
    "    # Check if the guess is correct\n",
    "    if guess == secret_alphabet:\n",
    "        print(\"Congratulations, you have guessed the alphabet right!\")\n",
    "        break  # Exit the loop if the guess is correct\n",
    "    else:\n",
    "        print(\"Incorrect guess. Try again.\")"
   ]
  },
  {
   "cell_type": "code",
   "execution_count": null,
   "id": "bc517545",
   "metadata": {},
   "outputs": [],
   "source": []
  },
  {
   "cell_type": "markdown",
   "id": "24a31259",
   "metadata": {},
   "source": []
  }
 ],
 "metadata": {
  "kernelspec": {
   "display_name": "Python 3 (ipykernel)",
   "language": "python",
   "name": "python3"
  },
  "language_info": {
   "codemirror_mode": {
    "name": "ipython",
    "version": 3
   },
   "file_extension": ".py",
   "mimetype": "text/x-python",
   "name": "python",
   "nbconvert_exporter": "python",
   "pygments_lexer": "ipython3",
   "version": "3.11.5"
  }
 },
 "nbformat": 4,
 "nbformat_minor": 5
}
